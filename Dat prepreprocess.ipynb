{
 "cells": [
  {
   "cell_type": "code",
   "execution_count": 20,
   "metadata": {},
   "outputs": [],
   "source": [
    "import pandas as pd\n",
    "import numpy as np\n",
    "# read flash.dat to a list of lists\n",
    "datContent = [i.strip().split() for i in open(\"./nsta24_sac.dat\").readlines()]\n",
    "# write it as a new CSMT\n",
    "df=pd.DataFrame(datContent,\n",
    "                columns=[\"station name\",\"lon\",\"lat\",\"?\",\"?\",\"?\",\"agency\",\"CSMT\",\"?\",\"?\",\"?\",\"?\",\"?\",\"?\",\"date\",\"?\",\"?\",\"?\",\"?\",\"?\",\"?\",\"?\",\"?\",\"?\",\"?\",\"?\",\"?\",\"?\",\"?\",\"?\",\"?\"]\n",
    "               )\n",
    "\n",
    "new_df=df[df[\"CSMT\"]==\"CSMT\"]\n",
    "lon=pd.to_numeric(new_df[\"lon\"])\n",
    "lat=pd.to_numeric(new_df[\"lat\"])\n",
    "lon_lat=np.array([lon,lat]).transpose()"
   ]
  },
  {
   "cell_type": "code",
   "execution_count": 21,
   "metadata": {},
   "outputs": [],
   "source": [
    "lon_sorted=sorted(lon_lat, key=lambda x: x[0])\n",
    "for i in range(len(lon_sorted)):\n",
    "    while lon_sorted[i-1]<lon_sorted[i]:\n",
    "        lon_sorted.append"
   ]
  },
  {
   "cell_type": "code",
   "execution_count": 22,
   "metadata": {},
   "outputs": [],
   "source": [
    "def msort3(x):\n",
    "    if len(x) < 2:\n",
    "        return x\n",
    "    result = []\n",
    "    mid = int(len(x) / 2)\n",
    "    y = msort3(x[:mid])\n",
    "    z = msort3(x[mid:])\n",
    "    i = 0\n",
    "    j = 0\n",
    "    while i < len(y) and j < len(z):\n",
    "        if y[i] > z[j]:\n",
    "            result.append(z[j])\n",
    "            j += 1\n",
    "        else:\n",
    "            result.append(y[i])\n",
    "            i += 1\n",
    "    result += y[i:]\n",
    "    result += z[j:]\n",
    "    return result"
   ]
  },
  {
   "cell_type": "code",
   "execution_count": 26,
   "metadata": {},
   "outputs": [
    {
     "data": {
      "text/plain": [
       "263"
      ]
     },
     "execution_count": 26,
     "metadata": {},
     "output_type": "execute_result"
    }
   ],
   "source": [
    "len(lon_lat)\n"
   ]
  },
  {
   "cell_type": "code",
   "execution_count": 28,
   "metadata": {},
   "outputs": [
    {
     "data": {
      "text/plain": [
       "0      (24.942, 25.258]\n",
       "1      (24.942, 25.258]\n",
       "2      (24.942, 25.258]\n",
       "3      (24.942, 25.258]\n",
       "4      (24.942, 25.258]\n",
       "             ...       \n",
       "258    (22.412, 22.728]\n",
       "259    (22.728, 23.044]\n",
       "260    (24.309, 24.625]\n",
       "261    (24.309, 24.625]\n",
       "262    (24.309, 24.625]\n",
       "Name: 1, Length: 263, dtype: category\n",
       "Categories (10, interval[float64]): [(22.092, 22.412] < (22.412, 22.728] < (22.728, 23.044] < (23.044, 23.36] ... (23.993, 24.309] < (24.309, 24.625] < (24.625, 24.942] < (24.942, 25.258]]"
      ]
     },
     "execution_count": 28,
     "metadata": {},
     "output_type": "execute_result"
    }
   ],
   "source": [
    "s=pd.DataFrame(lon_lat)\n",
    "pd.cut(s[0],10)\n",
    "pd.cut(s[1],10)"
   ]
  },
  {
   "cell_type": "code",
   "execution_count": null,
   "metadata": {},
   "outputs": [],
   "source": []
  }
 ],
 "metadata": {
  "kernelspec": {
   "display_name": "Python 3",
   "language": "python",
   "name": "python3"
  },
  "language_info": {
   "codemirror_mode": {
    "name": "ipython",
    "version": 3
   },
   "file_extension": ".py",
   "mimetype": "text/x-python",
   "name": "python",
   "nbconvert_exporter": "python",
   "pygments_lexer": "ipython3",
   "version": "3.7.4"
  }
 },
 "nbformat": 4,
 "nbformat_minor": 2
}
