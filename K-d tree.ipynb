{
 "cells": [
  {
   "cell_type": "code",
   "execution_count": 112,
   "metadata": {},
   "outputs": [],
   "source": [
    "import time\n",
    "import numpy as np\n",
    "from scipy import spatial as spatial\n",
    "import pandas as pd\n",
    "import random\n"
   ]
  },
  {
   "cell_type": "code",
   "execution_count": 113,
   "metadata": {},
   "outputs": [],
   "source": [
    "# Create some dummy data\n",
    "random.seed(1)\n",
    "y_array = np.random.random(10000).reshape(100,100)\n",
    "x_array = np.random.random(10000).reshape(100,100)\n",
    "points = np.random.random(10000).reshape(2,5000)"
   ]
  },
  {
   "cell_type": "code",
   "execution_count": 119,
   "metadata": {},
   "outputs": [],
   "source": [
    "combined_x_y_arrays = numpy.dstack([y_array.ravel(),x_array.ravel()])[0]\n",
    "points_list = list(points.transpose())\n",
    "def do_kdtree(combined_x_y_arrays,points):\n",
    "    mytree = spatial.cKDTree(combined_x_y_arrays)\n",
    "    dist, indexes = mytree.query(points)\n",
    "    return dist, indexes"
   ]
  },
  {
   "cell_type": "code",
   "execution_count": 114,
   "metadata": {},
   "outputs": [
    {
     "name": "stdout",
     "output_type": "stream",
     "text": [
      "Completed in:  969.198399066925\n"
     ]
    }
   ],
   "source": [
    "storage=np.array([])\n",
    "average_distance_storage=np.array([])\n",
    "start = time.time()\n",
    "\n",
    "#for i in range(len(points_list)):\n",
    "for i in range(200):\n",
    "    combined_x_y_arrays = np.dstack([y_array.ravel(),x_array.ravel()])[0]\n",
    "    points_list = list(points.transpose())\n",
    "    for k in range(10):\n",
    "        #do_kd_tree\n",
    "        kd_result = do_kdtree(combined_x_y_arrays,points_list)\n",
    "        df=pd.DataFrame(kd_result, index=[\"dist\", \"indexes\"]).transpose()\n",
    "        #store the nearest point\n",
    "        storage=np.append(storage, df[\"dist\"][i])\n",
    "        #remove the nearest point\n",
    "        combined_x_y_arrays=np.delete(combined_x_y_arrays, int(df[\"indexes\"][i]),0)\n",
    "        \n",
    "    average_distance=np.array(sum(storage)/(k+2))\n",
    "    average_distance_storage=np.append(average_distance_storage,average_distance)\n",
    "end = time.time()\n",
    "print('Completed in: ',end-start)"
   ]
  },
  {
   "cell_type": "code",
   "execution_count": 115,
   "metadata": {},
   "outputs": [],
   "source": [
    "grid_value=pd.DataFrame(data=average_distance_storage.reshape(1,-1), index=[\"average_dist\"])\n",
    "new_points=points.transpose()[:200].transpose()\n",
    "cords=pd.DataFrame(data=new_points,index=[\"x\",\"y\"])\n",
    "grid_value_and_cords=grid_value.append(cords)\n",
    "grid_value_and_cords=grid_value_and_cords.transpose()"
   ]
  },
  {
   "cell_type": "code",
   "execution_count": 116,
   "metadata": {},
   "outputs": [
    {
     "data": {
      "text/html": [
       "<div>\n",
       "<style scoped>\n",
       "    .dataframe tbody tr th:only-of-type {\n",
       "        vertical-align: middle;\n",
       "    }\n",
       "\n",
       "    .dataframe tbody tr th {\n",
       "        vertical-align: top;\n",
       "    }\n",
       "\n",
       "    .dataframe thead th {\n",
       "        text-align: right;\n",
       "    }\n",
       "</style>\n",
       "<table border=\"1\" class=\"dataframe\">\n",
       "  <thead>\n",
       "    <tr style=\"text-align: right;\">\n",
       "      <th></th>\n",
       "      <th>average_dist</th>\n",
       "      <th>x</th>\n",
       "      <th>y</th>\n",
       "    </tr>\n",
       "  </thead>\n",
       "  <tbody>\n",
       "    <tr>\n",
       "      <td>0</td>\n",
       "      <td>0.010263</td>\n",
       "      <td>0.275938</td>\n",
       "      <td>0.221964</td>\n",
       "    </tr>\n",
       "    <tr>\n",
       "      <td>1</td>\n",
       "      <td>0.024067</td>\n",
       "      <td>0.032324</td>\n",
       "      <td>0.824391</td>\n",
       "    </tr>\n",
       "    <tr>\n",
       "      <td>2</td>\n",
       "      <td>0.038965</td>\n",
       "      <td>0.349703</td>\n",
       "      <td>0.063209</td>\n",
       "    </tr>\n",
       "    <tr>\n",
       "      <td>3</td>\n",
       "      <td>0.050169</td>\n",
       "      <td>0.700853</td>\n",
       "      <td>0.291995</td>\n",
       "    </tr>\n",
       "    <tr>\n",
       "      <td>4</td>\n",
       "      <td>0.059749</td>\n",
       "      <td>0.424402</td>\n",
       "      <td>0.396549</td>\n",
       "    </tr>\n",
       "    <tr>\n",
       "      <td>...</td>\n",
       "      <td>...</td>\n",
       "      <td>...</td>\n",
       "      <td>...</td>\n",
       "    </tr>\n",
       "    <tr>\n",
       "      <td>195</td>\n",
       "      <td>2.226649</td>\n",
       "      <td>0.914224</td>\n",
       "      <td>0.263488</td>\n",
       "    </tr>\n",
       "    <tr>\n",
       "      <td>196</td>\n",
       "      <td>2.238378</td>\n",
       "      <td>0.357164</td>\n",
       "      <td>0.354731</td>\n",
       "    </tr>\n",
       "    <tr>\n",
       "      <td>197</td>\n",
       "      <td>2.250135</td>\n",
       "      <td>0.774981</td>\n",
       "      <td>0.645538</td>\n",
       "    </tr>\n",
       "    <tr>\n",
       "      <td>198</td>\n",
       "      <td>2.259133</td>\n",
       "      <td>0.985632</td>\n",
       "      <td>0.555424</td>\n",
       "    </tr>\n",
       "    <tr>\n",
       "      <td>199</td>\n",
       "      <td>2.270404</td>\n",
       "      <td>0.556679</td>\n",
       "      <td>0.435969</td>\n",
       "    </tr>\n",
       "  </tbody>\n",
       "</table>\n",
       "<p>200 rows × 3 columns</p>\n",
       "</div>"
      ],
      "text/plain": [
       "     average_dist         x         y\n",
       "0        0.010263  0.275938  0.221964\n",
       "1        0.024067  0.032324  0.824391\n",
       "2        0.038965  0.349703  0.063209\n",
       "3        0.050169  0.700853  0.291995\n",
       "4        0.059749  0.424402  0.396549\n",
       "..            ...       ...       ...\n",
       "195      2.226649  0.914224  0.263488\n",
       "196      2.238378  0.357164  0.354731\n",
       "197      2.250135  0.774981  0.645538\n",
       "198      2.259133  0.985632  0.555424\n",
       "199      2.270404  0.556679  0.435969\n",
       "\n",
       "[200 rows x 3 columns]"
      ]
     },
     "execution_count": 116,
     "metadata": {},
     "output_type": "execute_result"
    }
   ],
   "source": [
    "grid_value_and_cords"
   ]
  },
  {
   "cell_type": "code",
   "execution_count": 147,
   "metadata": {},
   "outputs": [],
   "source": [
    "x=do_kdtree([[1,0],[2,0],[3,0],[4,0],[5,0]],[[0,0],[1,0],[2,0]])"
   ]
  },
  {
   "cell_type": "code",
   "execution_count": 148,
   "metadata": {},
   "outputs": [],
   "source": [
    "df=pd.DataFrame(x, index=[\"dist\", \"indexes\"]).transpose()\n",
    "#store the nearest point\n",
    "#storage=np.append(storage, df[\"dist\"][0])\n",
    "#        #remove the nearest point\n",
    "#        combined_x_y_arrays=np.delete(combined_x_y_arrays, int(df[\"indexes\"][i]),0)\n"
   ]
  },
  {
   "cell_type": "code",
   "execution_count": 149,
   "metadata": {},
   "outputs": [
    {
     "data": {
      "text/html": [
       "<div>\n",
       "<style scoped>\n",
       "    .dataframe tbody tr th:only-of-type {\n",
       "        vertical-align: middle;\n",
       "    }\n",
       "\n",
       "    .dataframe tbody tr th {\n",
       "        vertical-align: top;\n",
       "    }\n",
       "\n",
       "    .dataframe thead th {\n",
       "        text-align: right;\n",
       "    }\n",
       "</style>\n",
       "<table border=\"1\" class=\"dataframe\">\n",
       "  <thead>\n",
       "    <tr style=\"text-align: right;\">\n",
       "      <th></th>\n",
       "      <th>dist</th>\n",
       "      <th>indexes</th>\n",
       "    </tr>\n",
       "  </thead>\n",
       "  <tbody>\n",
       "    <tr>\n",
       "      <td>0</td>\n",
       "      <td>1.0</td>\n",
       "      <td>0.0</td>\n",
       "    </tr>\n",
       "    <tr>\n",
       "      <td>1</td>\n",
       "      <td>0.0</td>\n",
       "      <td>0.0</td>\n",
       "    </tr>\n",
       "    <tr>\n",
       "      <td>2</td>\n",
       "      <td>0.0</td>\n",
       "      <td>1.0</td>\n",
       "    </tr>\n",
       "  </tbody>\n",
       "</table>\n",
       "</div>"
      ],
      "text/plain": [
       "   dist  indexes\n",
       "0   1.0      0.0\n",
       "1   0.0      0.0\n",
       "2   0.0      1.0"
      ]
     },
     "execution_count": 149,
     "metadata": {},
     "output_type": "execute_result"
    }
   ],
   "source": [
    "#np.set_printoptions(threshold=np.inf)\n",
    "#storage\n",
    "df"
   ]
  },
  {
   "cell_type": "code",
   "execution_count": null,
   "metadata": {},
   "outputs": [],
   "source": []
  }
 ],
 "metadata": {
  "kernelspec": {
   "display_name": "Python 3",
   "language": "python",
   "name": "python3"
  },
  "language_info": {
   "codemirror_mode": {
    "name": "ipython",
    "version": 3
   },
   "file_extension": ".py",
   "mimetype": "text/x-python",
   "name": "python",
   "nbconvert_exporter": "python",
   "pygments_lexer": "ipython3",
   "version": "3.7.4"
  }
 },
 "nbformat": 4,
 "nbformat_minor": 2
}
