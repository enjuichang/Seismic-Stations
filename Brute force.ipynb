{
 "cells": [
  {
   "cell_type": "code",
   "execution_count": 198,
   "metadata": {},
   "outputs": [],
   "source": [
    "import time\n",
    "import numpy\n",
    "from scipy import spatial as spatial\n",
    "import pandas as pd\n"
   ]
  },
  {
   "cell_type": "code",
   "execution_count": 199,
   "metadata": {},
   "outputs": [],
   "source": [
    "# Create some dummy data\n",
    "seed(1)\n",
    "y_array = numpy.random.random(10000).reshape(100,100)\n",
    "x_array = numpy.random.random(10000).reshape(100,100)\n",
    "points = numpy.random.random(10000).reshape(2,5000)"
   ]
  },
  {
   "cell_type": "code",
   "execution_count": null,
   "metadata": {},
   "outputs": [],
   "source": [
    "def do_kdtree(combined_x_y_arrays,points):\n",
    "    mytree = spatial.cKDTree(combined_x_y_arrays)\n",
    "    dist, indexes = mytree.query(points)\n",
    "    return dist, indexes"
   ]
  },
  {
   "cell_type": "code",
   "execution_count": null,
   "metadata": {},
   "outputs": [],
   "source": [
    "# Brute-force method\n",
    "combined_x_y_arrays = numpy.dstack([y_array.ravel(),x_array.ravel()])[0]\n",
    "points_list = list(points.transpose())\n",
    "\n",
    "def brute_force_method(points_list,combined_x_y_arrays):\n",
    "    dist=numpy.array([])\n",
    "    individual_dist=numpy.array([])\n",
    "    for i in range(len(points_list)):\n",
    "        for j in range(len(points_list)):\n",
    "            temp_dist = numpy.linalg.norm(combined_x_y_arrays[j]-points_list[i])\n",
    "            individual_dist=numpy.append(individual_dist,temp_dist)\n",
    "        dist=numpy.append(dist,sum(individual_dist)/(j+2))\n",
    "    return dist\n",
    "\n",
    "start = time.time()\n",
    "brute_force_result=brute_force_method(points_list,combined_x_y_arrays)\n",
    "end = time.time()\n",
    "print('Completed in: ',end-start)"
   ]
  },
  {
   "cell_type": "code",
   "execution_count": null,
   "metadata": {},
   "outputs": [],
   "source": [
    "brute_force_result"
   ]
  },
  {
   "cell_type": "code",
   "execution_count": null,
   "metadata": {},
   "outputs": [],
   "source": []
  }
 ],
 "metadata": {
  "kernelspec": {
   "display_name": "Python 3",
   "language": "python",
   "name": "python3"
  },
  "language_info": {
   "codemirror_mode": {
    "name": "ipython",
    "version": 3
   },
   "file_extension": ".py",
   "mimetype": "text/x-python",
   "name": "python",
   "nbconvert_exporter": "python",
   "pygments_lexer": "ipython3",
   "version": "3.7.4"
  }
 },
 "nbformat": 4,
 "nbformat_minor": 2
}
