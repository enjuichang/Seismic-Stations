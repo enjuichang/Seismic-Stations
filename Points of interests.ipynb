{
 "cells": [
  {
   "cell_type": "code",
   "execution_count": 37,
   "metadata": {},
   "outputs": [],
   "source": [
    "import time\n",
    "import numpy as np\n",
    "from scipy import spatial as spatial\n",
    "import pandas as pd\n",
    "import random\n",
    "import math\n"
   ]
  },
  {
   "cell_type": "code",
   "execution_count": 38,
   "metadata": {},
   "outputs": [],
   "source": [
    "#load data from raw station data file\n",
    "datContent = [i.strip().split() for i in open(\"../nsta24_sac.dat\").readlines()]\n",
    "pre_df=pd.DataFrame(datContent, columns=[\"station name\",\"lon\",\"lat\",\"?\",\"?\",\"?\",\"agency\",\"CSMT\",\"?\",\"?\",\"?\",\"?\",\"?\",\"?\",\"date\",\"?\",\"?\",\"?\",\"?\",\"?\",\"?\",\"?\",\"?\",\"?\",\"?\",\"?\",\"?\",\"?\",\"?\",\"?\",\"?\"])\n",
    "\n",
    "#find stations that are not CSMT\n",
    "df=pre_df.drop(columns=['?'])\n",
    "df=df[df[\"CSMT\"]!=\"CSMT\"]\n",
    "\n",
    "pd.set_option('display.max_rows', df.shape[0]+1)\n",
    "non_CSMT=df.sort_values(by=['lon', 'lat'])\n",
    "\n",
    "\n"
   ]
  },
  {
   "cell_type": "code",
   "execution_count": 39,
   "metadata": {},
   "outputs": [
    {
     "name": "stdout",
     "output_type": "stream",
     "text": [
      "     station name       lon      lat agency CSMT      date\n",
      "1062          YUS  120.9591  23.4873    CWB  SMT  20110907\n",
      "1063          YUS  120.9591  23.4873    CWB  SMT  20110907     station name       lon      lat agency  CSMT      date\n",
      "916         VWDT  121.1412  23.7537    IES  BATS  20090716     station name       lon      lat agency CSMT      date\n",
      "953          WHF  121.2724  24.1434    CWB  SMT  20081014\n",
      "954          WHF  121.2724  24.1434    CWB  SMT  20081014\n"
     ]
    }
   ],
   "source": [
    "station1=non_CSMT[pd.to_numeric(non_CSMT[\"lon\"])==120.9591]\n",
    "station2=non_CSMT[pd.to_numeric(non_CSMT[\"lon\"])==121.1412]\n",
    "station2=non_CSMT[pd.to_numeric(non_CSMT[\"lat\"])==23.7537]\n",
    "station3=non_CSMT[pd.to_numeric(non_CSMT[\"lon\"])==121.2724]\n",
    "\n",
    "print(station1,station2,station3)\n"
   ]
  },
  {
   "cell_type": "code",
   "execution_count": 40,
   "metadata": {},
   "outputs": [
    {
     "data": {
      "text/plain": [
       "121.03729"
      ]
     },
     "execution_count": 40,
     "metadata": {},
     "output_type": "execute_result"
    }
   ],
   "source": [
    "result_station[0][0]"
   ]
  },
  {
   "cell_type": "code",
   "execution_count": 41,
   "metadata": {},
   "outputs": [
    {
     "data": {
      "text/plain": [
       "7821"
      ]
     },
     "execution_count": 41,
     "metadata": {},
     "output_type": "execute_result"
    }
   ],
   "source": [
    "#load data of CSMT data\n",
    "grid_value_and_cords=[i.strip().split() for i in open(\"../heatmap_real.dat\").readlines()]\n",
    "grid_value_and_cords=pd.DataFrame(grid_value_and_cords,columns=['lon','lat','dist'])\n",
    "grid_value_and_cords=grid_value_and_cords.transpose().drop('dist').transpose()\n",
    "grid_value_and_cords=grid_value_and_cords.sort_values(by=['lon', 'lat'])\n",
    "pd.set_option('display.max_rows', grid_value_and_cords.shape[0]+1)\n",
    "\n",
    "#load CSMT stations that are in between 120,122,22.5,25\n",
    "result=grid_value_and_cords[pd.to_numeric(grid_value_and_cords[\"lon\"])>120]\n",
    "result=result[pd.to_numeric(result[\"lon\"])<122]\n",
    "result=result[pd.to_numeric(result[\"lat\"])>22.5]\n",
    "result=result[pd.to_numeric(result[\"lat\"])<25]\n",
    "result_grid=result.sort_values(by=['lon', 'lat'])\n",
    "result_grid[\"lon\"]=pd.to_numeric(result_grid[\"lon\"])\n",
    "result_grid[\"lat\"]=pd.to_numeric(result_grid[\"lat\"])\n",
    "result_grid=result_grid.to_numpy()\n",
    "len(result_grid)"
   ]
  },
  {
   "cell_type": "code",
   "execution_count": 42,
   "metadata": {},
   "outputs": [
    {
     "name": "stdout",
     "output_type": "stream",
     "text": [
      "[120.9591  23.4873]\n",
      "[121.1412  23.7537]\n",
      "[121.2724  24.1434]\n"
     ]
    }
   ],
   "source": [
    "#find the non-CSMT station of interest\n",
    "df=non_CSMT.sort_values(by=['lon', 'lat'])\n",
    "\n",
    "result=df[pd.to_numeric(df[\"lon\"])>120.95]\n",
    "result=result[pd.to_numeric(result[\"lon\"])<121.29]\n",
    "result=result[pd.to_numeric(result[\"lat\"])>23.2]\n",
    "result=result[pd.to_numeric(result[\"lat\"])<24.3]\n",
    "\n",
    "result_station=result.sort_values(by=['lon', 'lat'])\n",
    "result_station=result_station.drop_duplicates(subset=['lon','lat'], keep='last')\n",
    "result_station=result_station[[\"lon\",\"lat\"]]\n",
    "result_station.to_csv('../point_of_interest.dat', sep=' ', header=None,index=None)\n",
    "result_station[\"lon\"]=pd.to_numeric(result_station[\"lon\"])\n",
    "result_station[\"lat\"]=pd.to_numeric(result_station[\"lat\"])\n",
    "result_station=result_station.to_numpy()\n",
    "print(result_station[1])\n",
    "print(result_station[3])\n",
    "print(result_station[9])\n"
   ]
  },
  {
   "cell_type": "code",
   "execution_count": null,
   "metadata": {},
   "outputs": [],
   "source": []
  },
  {
   "cell_type": "code",
   "execution_count": 43,
   "metadata": {},
   "outputs": [
    {
     "data": {
      "text/plain": [
       "211"
      ]
     },
     "execution_count": 43,
     "metadata": {},
     "output_type": "execute_result"
    }
   ],
   "source": [
    "#find exisitng CSMT stations in the region\n",
    "# read dat file \n",
    "datContent = [i.strip().split() for i in open(\"../nsta24_sac.dat\").readlines()]\n",
    "# write it as a dataframe\n",
    "df=pd.DataFrame(datContent,\n",
    "                columns=[\"station name\",\"lon\",\"lat\",\"?\",\"?\",\"?\",\"agency\",\"CSMT\",\"?\",\"?\",\"?\",\"?\",\"?\",\"?\",\"date\",\"?\",\"?\",\"?\",\"?\",\"?\",\"?\",\"?\",\"?\",\"?\",\"?\",\"?\",\"?\",\"?\",\"?\",\"?\",\"?\"]\n",
    "               )\n",
    "# filter CSMT\n",
    "new_df=df[df[\"CSMT\"]==\"CSMT\"]\n",
    "new_df.to_csv('../existing_station.dat', sep=' ', header=None,index=None)\n",
    "exist_lon=pd.to_numeric(new_df[\"lon\"])\n",
    "exist_lat=pd.to_numeric(new_df[\"lat\"])\n",
    "exist_lon_lat=np.array([exist_lon,exist_lat]).transpose()\n",
    "\n",
    "#merge overlapping stations\n",
    "#define the area of interest\n",
    "lon_start = 120\n",
    "lon_end = 122\n",
    "lat_start= 22.5\n",
    "lat_end= 25\n",
    "\n",
    "step_count=0.025\n",
    "\n",
    "#merge exisiting stations in each grid\n",
    "s=pd.DataFrame(exist_lon_lat,columns=[\"lon\",\"lat\"])\n",
    "s1=pd.cut(s[\"lon\"], np.arange(lon_start, lon_end, step_count))\n",
    "s2=pd.cut(s[\"lat\"], np.arange(lat_start, lat_end, step_count))\n",
    "result=s.groupby([s1,s2]).mean()\n",
    "\n",
    "lon_lat_nan=np.array([result[\"lon\"],result[\"lat\"]]).transpose()\n",
    "\n",
    "#remove NaN\n",
    "lon_lat_nan = lon_lat_nan[np.logical_not(np.isnan(lon_lat_nan))]\n",
    "lon=np.array([])\n",
    "lat=np.array([])\n",
    "\n",
    "for i in range(len(lon_lat_nan)):\n",
    "    if i%2==0:\n",
    "        lon=np.append(lon,lon_lat_nan[i])\n",
    "    else:\n",
    "        lat=np.append(lat,lon_lat_nan[i])\n",
    "lon_lat= np.concatenate(([lon],[lat])).transpose()\n",
    "len(lon_lat)\n"
   ]
  },
  {
   "cell_type": "code",
   "execution_count": 44,
   "metadata": {},
   "outputs": [],
   "source": [
    "#define kd tree function\n",
    "def do_kdtree(combined_x_y_arrays,points):\n",
    "    mytree = spatial.cKDTree(combined_x_y_arrays)\n",
    "    dist, indexes = mytree.query(points)\n",
    "    return dist, indexes\n"
   ]
  },
  {
   "cell_type": "code",
   "execution_count": 45,
   "metadata": {},
   "outputs": [],
   "source": [
    "#define converter: lon lat to x y coords\n",
    "def converter(lon2,lat2):\n",
    "    lon1=lon_start\n",
    "    lat1=lat_start\n",
    "    dx = (lon2-lon1)*40000*math.cos((lat1+lat2)*math.pi/360)/360\n",
    "    dy = (lat2-lat1)*40000/360\n",
    "    return(np.array([dx,dy]))\n"
   ]
  },
  {
   "cell_type": "code",
   "execution_count": 331,
   "metadata": {},
   "outputs": [
    {
     "ename": "IndentationError",
     "evalue": "unexpected indent (<ipython-input-331-b77c060dc4e0>, line 5)",
     "output_type": "error",
     "traceback": [
      "\u001b[0;36m  File \u001b[0;32m\"<ipython-input-331-b77c060dc4e0>\"\u001b[0;36m, line \u001b[0;32m5\u001b[0m\n\u001b[0;31m    start = time.time()\u001b[0m\n\u001b[0m    ^\u001b[0m\n\u001b[0;31mIndentationError\u001b[0m\u001b[0;31m:\u001b[0m unexpected indent\n"
     ]
    }
   ],
   "source": [
    "#compute different distance data while adding different stations of interest along with CSMT data\n",
    "for j in range(len(result_station)):\n",
    "    \n",
    "    start = time.time()\n",
    "    \n",
    "    #define the inputs\n",
    "    points=result_grid.transpose()\n",
    "    result_station_add=lon_lat\n",
    "    #transpose and list points\n",
    "    points_list = list(points.transpose())\n",
    "    \n",
    "    #adding each individual station of interest\n",
    "    result_station_add=np.append(result_station_add,result_station[j])\n",
    "    \n",
    "    #initialize storages\n",
    "    final_storage=np.array([])\n",
    "    lon=np.array([])\n",
    "    lat=np.array([])\n",
    "    \n",
    "    #dimensionalizing after adding the stations of interest\n",
    "    for x in range(len(result_station_add)):\n",
    "        if x%2==0:\n",
    "            lon=np.append(lon,result_station_add[x])\n",
    "        else:\n",
    "            lat=np.append(lat,result_station_add[x])\n",
    "    result_station_add= np.concatenate(([lon],[lat])).transpose()\n",
    "\n",
    "    iteration=1 #define how many neighbors of interest\n",
    "    \n",
    "    #match the station data with every grid point\n",
    "    for i in range(len(points_list)):\n",
    "\n",
    "        #re-initialize the storage and input\n",
    "        combined_x_y_arrays=result_station_add\n",
    "        points_list = list(points.transpose())\n",
    "        storage=np.array([])\n",
    "\n",
    "        \n",
    "        #find the distance between the nearest k stations compared with the grid point\n",
    "        for k in range(iteration):\n",
    "            #run do_kd_tree\n",
    "            kd_result = do_kdtree(combined_x_y_arrays,points_list)\n",
    "            \n",
    "            #compile the results of the do_kd_tree\n",
    "            result_compiler=pd.DataFrame(kd_result, index=[\"dist\", \"indexes\"]).transpose()\n",
    "            \n",
    "            #store the nearest point\n",
    "            #storage=np.append(storage, result_compiler[\"dist\"][i])\n",
    "            \n",
    "            #convert lon/lat to the x/y\n",
    "            \n",
    "            lon_end,lat_end=combined_x_y_arrays[int(result_compiler[\"indexes\"][i])]\n",
    "            \n",
    "            #find the coords of the grid point\n",
    "            individual_x,individual_y=points_list[i]\n",
    "            \n",
    "            #calculate the distance\n",
    "            dist=np.linalg.norm(converter(lon_end,lat_end)-converter(individual_x,individual_y))\n",
    "            \n",
    "            #store the dist\n",
    "            storage=np.append(storage, dist)\n",
    "            \n",
    "            #remove the nearest point\n",
    "            combined_x_y_arrays=np.delete(combined_x_y_arrays, int(result_compiler[\"indexes\"][i]),0)\n",
    "        \n",
    "        #calculate the average_distance (applicable when k>1)\n",
    "        average_distance=np.array(sum(storage)/iteration)\n",
    "        #store the average data\n",
    "        final_storage=np.append(final_storage,average_distance)\n",
    "\n",
    "    \n",
    "    #put the relevant data into dataframe\n",
    "    grid_value=pd.DataFrame(data=final_storage.reshape(1,-1), index=[\"dist\"])\n",
    "    cords=pd.DataFrame(data=points,index=[\"lon\",\"lat\"])\n",
    "    grid_value_and_cords=cords.append(grid_value)\n",
    "    grid_value_and_cords=grid_value_and_cords.transpose()\n",
    "    \n",
    "    #define which non_CSMT station of interest\n",
    "    station_title=j\n",
    "    \n",
    "    #output each data\n",
    "    #generate a unique file name based on the id and record\n",
    "    file_name=\"../station_specific\"+str(station_title)+\".dat\"\n",
    "    #create the CSV\n",
    "    grid_value_and_cords.to_csv(file_name, sep=' ', header=None,index=None)\n",
    "    \n",
    "    end = time.time()\n",
    "    print('Completed in: ',end-start)\n"
   ]
  },
  {
   "cell_type": "code",
   "execution_count": 46,
   "metadata": {},
   "outputs": [],
   "source": [
    "result_station=np.array([[121.13584,24.06908]\n",
    "])"
   ]
  },
  {
   "cell_type": "code",
   "execution_count": 35,
   "metadata": {},
   "outputs": [],
   "source": [
    "result_station=np.array([[121.03729,23.42483],[121.66986,23.35745],[121.01648,23.71486], [120.45481,21.80950],[121.26462,24.06342]])"
   ]
  },
  {
   "cell_type": "code",
   "execution_count": 50,
   "metadata": {},
   "outputs": [
    {
     "ename": "KeyboardInterrupt",
     "evalue": "",
     "output_type": "error",
     "traceback": [
      "\u001b[0;31m---------------------------------------------------------------------------\u001b[0m",
      "\u001b[0;31mKeyboardInterrupt\u001b[0m                         Traceback (most recent call last)",
      "\u001b[0;32m<ipython-input-50-c3f6855719c3>\u001b[0m in \u001b[0;36m<module>\u001b[0;34m\u001b[0m\n\u001b[1;32m     42\u001b[0m \u001b[0;34m\u001b[0m\u001b[0m\n\u001b[1;32m     43\u001b[0m         \u001b[0;31m#compile the results of the do_kd_tree\u001b[0m\u001b[0;34m\u001b[0m\u001b[0;34m\u001b[0m\u001b[0;34m\u001b[0m\u001b[0m\n\u001b[0;32m---> 44\u001b[0;31m         \u001b[0mresult_compiler\u001b[0m\u001b[0;34m=\u001b[0m\u001b[0mpd\u001b[0m\u001b[0;34m.\u001b[0m\u001b[0mDataFrame\u001b[0m\u001b[0;34m(\u001b[0m\u001b[0mkd_result\u001b[0m\u001b[0;34m,\u001b[0m \u001b[0mindex\u001b[0m\u001b[0;34m=\u001b[0m\u001b[0;34m[\u001b[0m\u001b[0;34m\"dist\"\u001b[0m\u001b[0;34m,\u001b[0m \u001b[0;34m\"indexes\"\u001b[0m\u001b[0;34m]\u001b[0m\u001b[0;34m)\u001b[0m\u001b[0;34m.\u001b[0m\u001b[0mtranspose\u001b[0m\u001b[0;34m(\u001b[0m\u001b[0;34m)\u001b[0m\u001b[0;34m\u001b[0m\u001b[0;34m\u001b[0m\u001b[0m\n\u001b[0m\u001b[1;32m     45\u001b[0m \u001b[0;34m\u001b[0m\u001b[0m\n\u001b[1;32m     46\u001b[0m         \u001b[0;31m#store the nearest point\u001b[0m\u001b[0;34m\u001b[0m\u001b[0;34m\u001b[0m\u001b[0;34m\u001b[0m\u001b[0m\n",
      "\u001b[0;32m~/opt/anaconda3/lib/python3.7/site-packages/pandas/core/frame.py\u001b[0m in \u001b[0;36m__init__\u001b[0;34m(self, data, index, columns, dtype, copy)\u001b[0m\n\u001b[1;32m    448\u001b[0m                     \u001b[0;32mif\u001b[0m \u001b[0mis_named_tuple\u001b[0m\u001b[0;34m(\u001b[0m\u001b[0mdata\u001b[0m\u001b[0;34m[\u001b[0m\u001b[0;36m0\u001b[0m\u001b[0;34m]\u001b[0m\u001b[0;34m)\u001b[0m \u001b[0;32mand\u001b[0m \u001b[0mcolumns\u001b[0m \u001b[0;32mis\u001b[0m \u001b[0;32mNone\u001b[0m\u001b[0;34m:\u001b[0m\u001b[0;34m\u001b[0m\u001b[0;34m\u001b[0m\u001b[0m\n\u001b[1;32m    449\u001b[0m                         \u001b[0mcolumns\u001b[0m \u001b[0;34m=\u001b[0m \u001b[0mdata\u001b[0m\u001b[0;34m[\u001b[0m\u001b[0;36m0\u001b[0m\u001b[0;34m]\u001b[0m\u001b[0;34m.\u001b[0m\u001b[0m_fields\u001b[0m\u001b[0;34m\u001b[0m\u001b[0;34m\u001b[0m\u001b[0m\n\u001b[0;32m--> 450\u001b[0;31m                     \u001b[0marrays\u001b[0m\u001b[0;34m,\u001b[0m \u001b[0mcolumns\u001b[0m \u001b[0;34m=\u001b[0m \u001b[0mto_arrays\u001b[0m\u001b[0;34m(\u001b[0m\u001b[0mdata\u001b[0m\u001b[0;34m,\u001b[0m \u001b[0mcolumns\u001b[0m\u001b[0;34m,\u001b[0m \u001b[0mdtype\u001b[0m\u001b[0;34m=\u001b[0m\u001b[0mdtype\u001b[0m\u001b[0;34m)\u001b[0m\u001b[0;34m\u001b[0m\u001b[0;34m\u001b[0m\u001b[0m\n\u001b[0m\u001b[1;32m    451\u001b[0m                     \u001b[0mcolumns\u001b[0m \u001b[0;34m=\u001b[0m \u001b[0mensure_index\u001b[0m\u001b[0;34m(\u001b[0m\u001b[0mcolumns\u001b[0m\u001b[0;34m)\u001b[0m\u001b[0;34m\u001b[0m\u001b[0;34m\u001b[0m\u001b[0m\n\u001b[1;32m    452\u001b[0m \u001b[0;34m\u001b[0m\u001b[0m\n",
      "\u001b[0;32m~/opt/anaconda3/lib/python3.7/site-packages/pandas/core/internals/construction.py\u001b[0m in \u001b[0;36mto_arrays\u001b[0;34m(data, columns, coerce_float, dtype)\u001b[0m\n\u001b[1;32m    486\u001b[0m         \u001b[0;31m# last ditch effort\u001b[0m\u001b[0;34m\u001b[0m\u001b[0;34m\u001b[0m\u001b[0;34m\u001b[0m\u001b[0m\n\u001b[1;32m    487\u001b[0m         \u001b[0mdata\u001b[0m \u001b[0;34m=\u001b[0m \u001b[0;34m[\u001b[0m\u001b[0mtuple\u001b[0m\u001b[0;34m(\u001b[0m\u001b[0mx\u001b[0m\u001b[0;34m)\u001b[0m \u001b[0;32mfor\u001b[0m \u001b[0mx\u001b[0m \u001b[0;32min\u001b[0m \u001b[0mdata\u001b[0m\u001b[0;34m]\u001b[0m\u001b[0;34m\u001b[0m\u001b[0;34m\u001b[0m\u001b[0m\n\u001b[0;32m--> 488\u001b[0;31m         \u001b[0;32mreturn\u001b[0m \u001b[0m_list_to_arrays\u001b[0m\u001b[0;34m(\u001b[0m\u001b[0mdata\u001b[0m\u001b[0;34m,\u001b[0m \u001b[0mcolumns\u001b[0m\u001b[0;34m,\u001b[0m \u001b[0mcoerce_float\u001b[0m\u001b[0;34m=\u001b[0m\u001b[0mcoerce_float\u001b[0m\u001b[0;34m,\u001b[0m \u001b[0mdtype\u001b[0m\u001b[0;34m=\u001b[0m\u001b[0mdtype\u001b[0m\u001b[0;34m)\u001b[0m\u001b[0;34m\u001b[0m\u001b[0;34m\u001b[0m\u001b[0m\n\u001b[0m\u001b[1;32m    489\u001b[0m \u001b[0;34m\u001b[0m\u001b[0m\n\u001b[1;32m    490\u001b[0m \u001b[0;34m\u001b[0m\u001b[0m\n",
      "\u001b[0;32m~/opt/anaconda3/lib/python3.7/site-packages/pandas/core/internals/construction.py\u001b[0m in \u001b[0;36m_list_to_arrays\u001b[0;34m(data, columns, coerce_float, dtype)\u001b[0m\n\u001b[1;32m    498\u001b[0m     \u001b[0;32mtry\u001b[0m\u001b[0;34m:\u001b[0m\u001b[0;34m\u001b[0m\u001b[0;34m\u001b[0m\u001b[0m\n\u001b[1;32m    499\u001b[0m         result = _convert_object_array(\n\u001b[0;32m--> 500\u001b[0;31m             \u001b[0mcontent\u001b[0m\u001b[0;34m,\u001b[0m \u001b[0mcolumns\u001b[0m\u001b[0;34m,\u001b[0m \u001b[0mdtype\u001b[0m\u001b[0;34m=\u001b[0m\u001b[0mdtype\u001b[0m\u001b[0;34m,\u001b[0m \u001b[0mcoerce_float\u001b[0m\u001b[0;34m=\u001b[0m\u001b[0mcoerce_float\u001b[0m\u001b[0;34m\u001b[0m\u001b[0;34m\u001b[0m\u001b[0m\n\u001b[0m\u001b[1;32m    501\u001b[0m         )\n\u001b[1;32m    502\u001b[0m     \u001b[0;32mexcept\u001b[0m \u001b[0mAssertionError\u001b[0m \u001b[0;32mas\u001b[0m \u001b[0me\u001b[0m\u001b[0;34m:\u001b[0m\u001b[0;34m\u001b[0m\u001b[0;34m\u001b[0m\u001b[0m\n",
      "\u001b[0;32m~/opt/anaconda3/lib/python3.7/site-packages/pandas/core/internals/construction.py\u001b[0m in \u001b[0;36m_convert_object_array\u001b[0;34m(content, columns, coerce_float, dtype)\u001b[0m\n\u001b[1;32m    591\u001b[0m         \u001b[0;32mreturn\u001b[0m \u001b[0marr\u001b[0m\u001b[0;34m\u001b[0m\u001b[0;34m\u001b[0m\u001b[0m\n\u001b[1;32m    592\u001b[0m \u001b[0;34m\u001b[0m\u001b[0m\n\u001b[0;32m--> 593\u001b[0;31m     \u001b[0marrays\u001b[0m \u001b[0;34m=\u001b[0m \u001b[0;34m[\u001b[0m\u001b[0mconvert\u001b[0m\u001b[0;34m(\u001b[0m\u001b[0marr\u001b[0m\u001b[0;34m)\u001b[0m \u001b[0;32mfor\u001b[0m \u001b[0marr\u001b[0m \u001b[0;32min\u001b[0m \u001b[0mcontent\u001b[0m\u001b[0;34m]\u001b[0m\u001b[0;34m\u001b[0m\u001b[0;34m\u001b[0m\u001b[0m\n\u001b[0m\u001b[1;32m    594\u001b[0m \u001b[0;34m\u001b[0m\u001b[0m\n\u001b[1;32m    595\u001b[0m     \u001b[0;32mreturn\u001b[0m \u001b[0marrays\u001b[0m\u001b[0;34m,\u001b[0m \u001b[0mcolumns\u001b[0m\u001b[0;34m\u001b[0m\u001b[0;34m\u001b[0m\u001b[0m\n",
      "\u001b[0;32m~/opt/anaconda3/lib/python3.7/site-packages/pandas/core/internals/construction.py\u001b[0m in \u001b[0;36m<listcomp>\u001b[0;34m(.0)\u001b[0m\n\u001b[1;32m    591\u001b[0m         \u001b[0;32mreturn\u001b[0m \u001b[0marr\u001b[0m\u001b[0;34m\u001b[0m\u001b[0;34m\u001b[0m\u001b[0m\n\u001b[1;32m    592\u001b[0m \u001b[0;34m\u001b[0m\u001b[0m\n\u001b[0;32m--> 593\u001b[0;31m     \u001b[0marrays\u001b[0m \u001b[0;34m=\u001b[0m \u001b[0;34m[\u001b[0m\u001b[0mconvert\u001b[0m\u001b[0;34m(\u001b[0m\u001b[0marr\u001b[0m\u001b[0;34m)\u001b[0m \u001b[0;32mfor\u001b[0m \u001b[0marr\u001b[0m \u001b[0;32min\u001b[0m \u001b[0mcontent\u001b[0m\u001b[0;34m]\u001b[0m\u001b[0;34m\u001b[0m\u001b[0;34m\u001b[0m\u001b[0m\n\u001b[0m\u001b[1;32m    594\u001b[0m \u001b[0;34m\u001b[0m\u001b[0m\n\u001b[1;32m    595\u001b[0m     \u001b[0;32mreturn\u001b[0m \u001b[0marrays\u001b[0m\u001b[0;34m,\u001b[0m \u001b[0mcolumns\u001b[0m\u001b[0;34m\u001b[0m\u001b[0;34m\u001b[0m\u001b[0m\n",
      "\u001b[0;32m~/opt/anaconda3/lib/python3.7/site-packages/pandas/core/internals/construction.py\u001b[0m in \u001b[0;36mconvert\u001b[0;34m(arr)\u001b[0m\n\u001b[1;32m    587\u001b[0m     \u001b[0;32mdef\u001b[0m \u001b[0mconvert\u001b[0m\u001b[0;34m(\u001b[0m\u001b[0marr\u001b[0m\u001b[0;34m)\u001b[0m\u001b[0;34m:\u001b[0m\u001b[0;34m\u001b[0m\u001b[0;34m\u001b[0m\u001b[0m\n\u001b[1;32m    588\u001b[0m         \u001b[0;32mif\u001b[0m \u001b[0mdtype\u001b[0m \u001b[0;34m!=\u001b[0m \u001b[0mobject\u001b[0m \u001b[0;32mand\u001b[0m \u001b[0mdtype\u001b[0m \u001b[0;34m!=\u001b[0m \u001b[0mnp\u001b[0m\u001b[0;34m.\u001b[0m\u001b[0mobject\u001b[0m\u001b[0;34m:\u001b[0m\u001b[0;34m\u001b[0m\u001b[0;34m\u001b[0m\u001b[0m\n\u001b[0;32m--> 589\u001b[0;31m             \u001b[0marr\u001b[0m \u001b[0;34m=\u001b[0m \u001b[0mlib\u001b[0m\u001b[0;34m.\u001b[0m\u001b[0mmaybe_convert_objects\u001b[0m\u001b[0;34m(\u001b[0m\u001b[0marr\u001b[0m\u001b[0;34m,\u001b[0m \u001b[0mtry_float\u001b[0m\u001b[0;34m=\u001b[0m\u001b[0mcoerce_float\u001b[0m\u001b[0;34m)\u001b[0m\u001b[0;34m\u001b[0m\u001b[0;34m\u001b[0m\u001b[0m\n\u001b[0m\u001b[1;32m    590\u001b[0m             \u001b[0marr\u001b[0m \u001b[0;34m=\u001b[0m \u001b[0mmaybe_cast_to_datetime\u001b[0m\u001b[0;34m(\u001b[0m\u001b[0marr\u001b[0m\u001b[0;34m,\u001b[0m \u001b[0mdtype\u001b[0m\u001b[0;34m)\u001b[0m\u001b[0;34m\u001b[0m\u001b[0;34m\u001b[0m\u001b[0m\n\u001b[1;32m    591\u001b[0m         \u001b[0;32mreturn\u001b[0m \u001b[0marr\u001b[0m\u001b[0;34m\u001b[0m\u001b[0;34m\u001b[0m\u001b[0m\n",
      "\u001b[0;31mKeyboardInterrupt\u001b[0m: "
     ]
    }
   ],
   "source": [
    "#compute different distance data while adding different stations of interest along with CSMT data\n",
    "j=[0]\n",
    "start = time.time()\n",
    "\n",
    "#define the inputs\n",
    "points=result_grid.transpose()\n",
    "result_station_add=lon_lat\n",
    "#transpose and list points\n",
    "points_list = list(points.transpose())\n",
    "\n",
    "#adding each individual station of interest\n",
    "result_station_add=np.append(result_station_add,result_station[j])\n",
    "\n",
    "#initialize storages\n",
    "final_storage=np.array([])\n",
    "lon=np.array([])\n",
    "lat=np.array([])\n",
    "\n",
    "#dimensionalizing after adding the stations of interest\n",
    "for x in range(len(result_station_add)):\n",
    "    if x%2==0:\n",
    "        lon=np.append(lon,result_station_add[x])\n",
    "    else:\n",
    "        lat=np.append(lat,result_station_add[x])\n",
    "result_station_add= np.concatenate(([lon],[lat])).transpose()\n",
    "\n",
    "iteration=1 #define how many neighbors of interest\n",
    "\n",
    "#match the station data with every grid point\n",
    "for i in range(len(points_list)):\n",
    "\n",
    "    #re-initialize the storage and input\n",
    "    combined_x_y_arrays=result_station_add\n",
    "    points_list = list(points.transpose())\n",
    "    storage=np.array([])\n",
    "\n",
    "\n",
    "    #find the distance between the nearest k stations compared with the grid point\n",
    "    for k in range(iteration):\n",
    "        #run do_kd_tree\n",
    "        kd_result = do_kdtree(combined_x_y_arrays,points_list)\n",
    "\n",
    "        #compile the results of the do_kd_tree\n",
    "        result_compiler=pd.DataFrame(kd_result, index=[\"dist\", \"indexes\"]).transpose()\n",
    "\n",
    "        #store the nearest point\n",
    "        #storage=np.append(storage, result_compiler[\"dist\"][i])\n",
    "\n",
    "        #convert lon/lat to the x/y\n",
    "\n",
    "        lon_end,lat_end=combined_x_y_arrays[int(result_compiler[\"indexes\"][i])]\n",
    "\n",
    "        #find the coords of the grid point\n",
    "        individual_x,individual_y=points_list[i]\n",
    "\n",
    "        #calculate the distance\n",
    "        dist=np.linalg.norm(converter(lon_end,lat_end)-converter(individual_x,individual_y))\n",
    "\n",
    "        #store the dist\n",
    "        storage=np.append(storage, dist)\n",
    "\n",
    "        #remove the nearest point\n",
    "        combined_x_y_arrays=np.delete(combined_x_y_arrays, int(result_compiler[\"indexes\"][i]),0)\n",
    "\n",
    "    #calculate the average_distance (applicable when k>1)\n",
    "    average_distance=np.array(sum(storage)/iteration)\n",
    "    #store the average data\n",
    "    final_storage=np.append(final_storage,average_distance)\n",
    "\n",
    "\n",
    "#put the relevant data into dataframe\n",
    "grid_value=pd.DataFrame(data=final_storage.reshape(1,-1), index=[\"dist\"])\n",
    "cords=pd.DataFrame(data=points,index=[\"lon\",\"lat\"])\n",
    "grid_value_and_cords=cords.append(grid_value)\n",
    "grid_value_and_cords=grid_value_and_cords.transpose()\n",
    "\n",
    "#define which non_CSMT station of interest\n",
    "station_title=len(j)\n",
    "\n",
    "#output each data\n",
    "#generate a unique file name based on the id and record\n",
    "file_name=\"../final\"+str(station_title)+\".dat\"\n",
    "#create the CSV\n",
    "grid_value_and_cords.to_csv(file_name, sep=' ', header=None,index=None)\n",
    "\n",
    "end = time.time()\n",
    "print('Completed in: ',end-start)\n"
   ]
  },
  {
   "cell_type": "code",
   "execution_count": null,
   "metadata": {},
   "outputs": [],
   "source": []
  }
 ],
 "metadata": {
  "kernelspec": {
   "display_name": "Python 3",
   "language": "python",
   "name": "python3"
  },
  "language_info": {
   "codemirror_mode": {
    "name": "ipython",
    "version": 3
   },
   "file_extension": ".py",
   "mimetype": "text/x-python",
   "name": "python",
   "nbconvert_exporter": "python",
   "pygments_lexer": "ipython3",
   "version": "3.7.4"
  }
 },
 "nbformat": 4,
 "nbformat_minor": 2
}
