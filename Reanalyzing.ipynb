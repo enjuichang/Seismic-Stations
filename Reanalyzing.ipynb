{
 "cells": [
  {
   "cell_type": "code",
   "execution_count": 51,
   "metadata": {},
   "outputs": [],
   "source": [
    "import time\n",
    "import numpy as np\n",
    "from scipy import spatial as spatial\n",
    "import pandas as pd\n",
    "import random\n",
    "import math\n",
    "\n"
   ]
  },
  {
   "cell_type": "code",
   "execution_count": 8,
   "metadata": {},
   "outputs": [],
   "source": [
    "#loading in .dat files\n",
    "datContent = [i.strip().split() for i in open(\"../station_specific5.dat\").readlines()]\n",
    "station5=pd.DataFrame(datContent,columns=[\"lon\",\"lat\",\"dist\"])\n",
    "datContent = [i.strip().split() for i in open(\"../station_specific3.dat\").readlines()]\n",
    "station3=pd.DataFrame(datContent,columns=[\"lon\",\"lat\",\"dist\"])"
   ]
  },
  {
   "cell_type": "code",
   "execution_count": 22,
   "metadata": {},
   "outputs": [],
   "source": [
    "add0=pd.to_numeric(station3[\"dist\"])+pd.to_numeric(station5[\"dist\"])"
   ]
  },
  {
   "cell_type": "code",
   "execution_count": 26,
   "metadata": {},
   "outputs": [],
   "source": [
    "minus0=pd.to_numeric(station3[\"dist\"])-pd.to_numeric(station5[\"dist\"])\n",
    "try0=minus0/2"
   ]
  },
  {
   "cell_type": "code",
   "execution_count": 47,
   "metadata": {},
   "outputs": [],
   "source": [
    "combined_array0=np.array([])\n",
    "lat0=np.append(combined_array0,pd.to_numeric(station3[\"lat\"]))\n",
    "lon0=np.append(combined_array0,pd.to_numeric(station3[\"lon\"]))\n",
    "combined_array0=np.concatenate(([lon0],[lat0],[try0]))\n",
    "combined_df0=pd.DataFrame(combined_array0).transpose()"
   ]
  },
  {
   "cell_type": "code",
   "execution_count": 48,
   "metadata": {},
   "outputs": [
    {
     "data": {
      "text/html": [
       "<div>\n",
       "<style scoped>\n",
       "    .dataframe tbody tr th:only-of-type {\n",
       "        vertical-align: middle;\n",
       "    }\n",
       "\n",
       "    .dataframe tbody tr th {\n",
       "        vertical-align: top;\n",
       "    }\n",
       "\n",
       "    .dataframe thead th {\n",
       "        text-align: right;\n",
       "    }\n",
       "</style>\n",
       "<table border=\"1\" class=\"dataframe\">\n",
       "  <thead>\n",
       "    <tr style=\"text-align: right;\">\n",
       "      <th></th>\n",
       "      <th>0</th>\n",
       "      <th>1</th>\n",
       "      <th>2</th>\n",
       "    </tr>\n",
       "  </thead>\n",
       "  <tbody>\n",
       "    <tr>\n",
       "      <td>0</td>\n",
       "      <td>120.025</td>\n",
       "      <td>22.525</td>\n",
       "      <td>0.0</td>\n",
       "    </tr>\n",
       "    <tr>\n",
       "      <td>1</td>\n",
       "      <td>120.025</td>\n",
       "      <td>22.550</td>\n",
       "      <td>0.0</td>\n",
       "    </tr>\n",
       "    <tr>\n",
       "      <td>2</td>\n",
       "      <td>120.025</td>\n",
       "      <td>22.575</td>\n",
       "      <td>0.0</td>\n",
       "    </tr>\n",
       "    <tr>\n",
       "      <td>3</td>\n",
       "      <td>120.025</td>\n",
       "      <td>22.600</td>\n",
       "      <td>0.0</td>\n",
       "    </tr>\n",
       "    <tr>\n",
       "      <td>4</td>\n",
       "      <td>120.025</td>\n",
       "      <td>22.625</td>\n",
       "      <td>0.0</td>\n",
       "    </tr>\n",
       "    <tr>\n",
       "      <td>...</td>\n",
       "      <td>...</td>\n",
       "      <td>...</td>\n",
       "      <td>...</td>\n",
       "    </tr>\n",
       "    <tr>\n",
       "      <td>7816</td>\n",
       "      <td>121.975</td>\n",
       "      <td>24.875</td>\n",
       "      <td>0.0</td>\n",
       "    </tr>\n",
       "    <tr>\n",
       "      <td>7817</td>\n",
       "      <td>121.975</td>\n",
       "      <td>24.900</td>\n",
       "      <td>0.0</td>\n",
       "    </tr>\n",
       "    <tr>\n",
       "      <td>7818</td>\n",
       "      <td>121.975</td>\n",
       "      <td>24.925</td>\n",
       "      <td>0.0</td>\n",
       "    </tr>\n",
       "    <tr>\n",
       "      <td>7819</td>\n",
       "      <td>121.975</td>\n",
       "      <td>24.950</td>\n",
       "      <td>0.0</td>\n",
       "    </tr>\n",
       "    <tr>\n",
       "      <td>7820</td>\n",
       "      <td>121.975</td>\n",
       "      <td>24.975</td>\n",
       "      <td>0.0</td>\n",
       "    </tr>\n",
       "  </tbody>\n",
       "</table>\n",
       "<p>7821 rows × 3 columns</p>\n",
       "</div>"
      ],
      "text/plain": [
       "            0       1    2\n",
       "0     120.025  22.525  0.0\n",
       "1     120.025  22.550  0.0\n",
       "2     120.025  22.575  0.0\n",
       "3     120.025  22.600  0.0\n",
       "4     120.025  22.625  0.0\n",
       "...       ...     ...  ...\n",
       "7816  121.975  24.875  0.0\n",
       "7817  121.975  24.900  0.0\n",
       "7818  121.975  24.925  0.0\n",
       "7819  121.975  24.950  0.0\n",
       "7820  121.975  24.975  0.0\n",
       "\n",
       "[7821 rows x 3 columns]"
      ]
     },
     "execution_count": 48,
     "metadata": {},
     "output_type": "execute_result"
    }
   ],
   "source": [
    "combined_df0"
   ]
  },
  {
   "cell_type": "code",
   "execution_count": 49,
   "metadata": {},
   "outputs": [],
   "source": [
    "file_name=\"try0\"+\".dat\"\n",
    "combined_df0.to_csv(file_name, sep=' ', header=None,index=None)"
   ]
  },
  {
   "cell_type": "code",
   "execution_count": 59,
   "metadata": {},
   "outputs": [],
   "source": [
    "pd.read_csv?"
   ]
  },
  {
   "cell_type": "code",
   "execution_count": null,
   "metadata": {},
   "outputs": [],
   "source": []
  }
 ],
 "metadata": {
  "kernelspec": {
   "display_name": "Python 3",
   "language": "python",
   "name": "python3"
  },
  "language_info": {
   "codemirror_mode": {
    "name": "ipython",
    "version": 3
   },
   "file_extension": ".py",
   "mimetype": "text/x-python",
   "name": "python",
   "nbconvert_exporter": "python",
   "pygments_lexer": "ipython3",
   "version": "3.7.4"
  }
 },
 "nbformat": 4,
 "nbformat_minor": 2
}
